{
  "metadata": {
    "language_info": {
      "codemirror_mode": {
        "name": "python",
        "version": 3
      },
      "file_extension": ".py",
      "mimetype": "text/x-python",
      "name": "python",
      "nbconvert_exporter": "python",
      "pygments_lexer": "ipython3",
      "version": "3.8"
    },
    "kernelspec": {
      "name": "python",
      "display_name": "Python (Pyodide)",
      "language": "python"
    },
    "colab": {
      "provenance": []
    }
  },
  "nbformat_minor": 0,
  "nbformat": 4,
  "cells": [
    {
      "cell_type": "markdown",
      "source": [
        "# Instructions\n"
      ],
      "metadata": {
        "id": "zMZCOiA6s08m"
      }
    },
    {
      "cell_type": "markdown",
      "source": [
        "In this notebook, you will  practice all the classification algorithms that we have learned in this course.\n",
        "\n",
        "\n",
        "Below, is where we are going to use the classification algorithms to create a model based on our training data and evaluate our testing data using evaluation metrics learned in the course.\n",
        "\n",
        "We will use some of the algorithms taught in the course, specifically:\n",
        "\n",
        "1. Linear Regression\n",
        "2. KNN\n",
        "3. Decision Trees\n",
        "4. Logistic Regression\n",
        "5. SVM\n",
        "\n",
        "We will evaluate our models using:\n",
        "\n",
        "1.  Accuracy Score\n",
        "2.  Jaccard Index\n",
        "3.  F1-Score\n",
        "4.  LogLoss\n",
        "5.  Mean Absolute Error\n",
        "6.  Mean Squared Error\n",
        "7.  R2-Score\n",
        "\n",
        "Finally, you will use your models to generate the report at the end.\n"
      ],
      "metadata": {
        "id": "JZeVmmKKs08m"
      }
    },
    {
      "cell_type": "markdown",
      "source": [
        "# About The Dataset\n"
      ],
      "metadata": {
        "id": "tEABUhQns08m"
      }
    },
    {
      "cell_type": "markdown",
      "source": [
        "The original source of the data is Australian Government's Bureau of Meteorology and the latest data can be gathered from [http://www.bom.gov.au/climate/dwo/](http://www.bom.gov.au/climate/dwo/?utm_medium=Exinfluencer&utm_source=Exinfluencer&utm_content=000026UJ&utm_term=10006555&utm_id=NA-SkillsNetwork-Channel-SkillsNetworkCoursesIBMDeveloperSkillsNetworkML0101ENSkillsNetwork20718538-2022-01-01).\n",
        "\n",
        "The dataset to be used has extra columns like 'RainToday' and our target is 'RainTomorrow', which was gathered from the Rattle at [https://bitbucket.org/kayontoga/rattle/src/master/data/weatherAUS.RData](https://bitbucket.org/kayontoga/rattle/src/master/data/weatherAUS.RData?utm_medium=Exinfluencer&utm_source=Exinfluencer&utm_content=000026UJ&utm_term=10006555&utm_id=NA-SkillsNetwork-Channel-SkillsNetworkCoursesIBMDeveloperSkillsNetworkML0101ENSkillsNetwork20718538-2022-01-01)\n",
        "\n",
        "\n"
      ],
      "metadata": {
        "id": "-2wyVT8Is08m"
      }
    },
    {
      "cell_type": "markdown",
      "source": [
        "This dataset contains observations of weather metrics for each day from 2008 to 2017. The **weatherAUS.csv** dataset includes the following fields:\n",
        "\n",
        "| Field         | Description                                           | Unit            | Type   |\n",
        "| ------------- | ----------------------------------------------------- | --------------- | ------ |\n",
        "| Date          | Date of the Observation in YYYY-MM-DD                 | Date            | object |\n",
        "| Location      | Location of the Observation                           | Location        | object |\n",
        "| MinTemp       | Minimum temperature                                   | Celsius         | float  |\n",
        "| MaxTemp       | Maximum temperature                                   | Celsius         | float  |\n",
        "| Rainfall      | Amount of rainfall                                    | Millimeters     | float  |\n",
        "| Evaporation   | Amount of evaporation                                 | Millimeters     | float  |\n",
        "| Sunshine      | Amount of bright sunshine                             | hours           | float  |\n",
        "| WindGustDir   | Direction of the strongest gust                       | Compass Points  | object |\n",
        "| WindGustSpeed | Speed of the strongest gust                           | Kilometers/Hour | object |\n",
        "| WindDir9am    | Wind direction averaged of 10 minutes prior to 9am    | Compass Points  | object |\n",
        "| WindDir3pm    | Wind direction averaged of 10 minutes prior to 3pm    | Compass Points  | object |\n",
        "| WindSpeed9am  | Wind speed averaged of 10 minutes prior to 9am        | Kilometers/Hour | float  |\n",
        "| WindSpeed3pm  | Wind speed averaged of 10 minutes prior to 3pm        | Kilometers/Hour | float  |\n",
        "| Humidity9am   | Humidity at 9am                                       | Percent         | float  |\n",
        "| Humidity3pm   | Humidity at 3pm                                       | Percent         | float  |\n",
        "| Pressure9am   | Atmospheric pressure reduced to mean sea level at 9am | Hectopascal     | float  |\n",
        "| Pressure3pm   | Atmospheric pressure reduced to mean sea level at 3pm | Hectopascal     | float  |\n",
        "| Cloud9am      | Fraction of the sky obscured by cloud at 9am          | Eights          | float  |\n",
        "| Cloud3pm      | Fraction of the sky obscured by cloud at 3pm          | Eights          | float  |\n",
        "| Temp9am       | Temperature at 9am                                    | Celsius         | float  |\n",
        "| Temp3pm       | Temperature at 3pm                                    | Celsius         | float  |\n",
        "| RainToday     | If there was rain today                               | Yes/No          | object |\n",
        "| RainTomorrow  | If there is rain tomorrow                             | Yes/No          | float  |\n",
        "\n",
        "Column definitions were gathered from [http://www.bom.gov.au/climate/dwo/IDCJDW0000.shtml](http://www.bom.gov.au/climate/dwo/IDCJDW0000.shtml?utm_medium=Exinfluencer&utm_source=Exinfluencer&utm_content=000026UJ&utm_term=10006555&utm_id=NA-SkillsNetwork-Channel-SkillsNetworkCoursesIBMDeveloperSkillsNetworkML0101ENSkillsNetwork20718538-2022-01-01)\n",
        "\n"
      ],
      "metadata": {
        "id": "EI8slwmQs08m"
      }
    },
    {
      "cell_type": "markdown",
      "source": [
        "## **Import the required libraries**\n"
      ],
      "metadata": {
        "id": "kdI4BrkSs08n"
      }
    },
    {
      "cell_type": "code",
      "source": [
        "# All Libraries required for this lab are listed below. The libraries pre-installed on Skills Network Labs are commented.\n",
        "# !mamba install -qy pandas==1.3.4 numpy==1.21.4 seaborn==0.9.0 matplotlib==3.5.0 scikit-learn==0.20.1\n",
        "# Note: If your environment doesn't support \"!mamba install\", use \"!pip install\""
      ],
      "metadata": {
        "trusted": true,
        "id": "v4ydJiSes08n"
      },
      "execution_count": null,
      "outputs": []
    },
    {
      "cell_type": "code",
      "source": [
        "# Surpress warnings:\n",
        "def warn(*args, **kwargs):\n",
        "    pass\n",
        "import warnings\n",
        "warnings.warn = warn"
      ],
      "metadata": {
        "trusted": true,
        "id": "CPMSis7xs08o"
      },
      "execution_count": null,
      "outputs": []
    },
    {
      "cell_type": "code",
      "source": [
        "#you are running the lab in your  browser, so we will install the libraries using ``piplite``\n",
        "import piplite\n",
        "await piplite.install(['pandas'])\n",
        "await piplite.install(['numpy'])\n"
      ],
      "metadata": {
        "trusted": true,
        "id": "4pmACQEQs08o"
      },
      "execution_count": null,
      "outputs": []
    },
    {
      "cell_type": "code",
      "source": [
        "import pandas as pd\n",
        "from sklearn.linear_model import LogisticRegression\n",
        "from sklearn.linear_model import LinearRegression\n",
        "from sklearn import preprocessing\n",
        "import numpy as np\n",
        "from sklearn.model_selection import train_test_split\n",
        "from sklearn.neighbors import KNeighborsClassifier\n",
        "from sklearn.tree import DecisionTreeClassifier\n",
        "from sklearn import svm\n",
        "from sklearn.metrics import jaccard_score\n",
        "from sklearn.metrics import f1_score\n",
        "from sklearn.metrics import log_loss\n",
        "from sklearn.metrics import confusion_matrix, accuracy_score\n",
        "import sklearn.metrics as metrics"
      ],
      "metadata": {
        "trusted": true,
        "id": "8Wuv2jaBs08o"
      },
      "execution_count": null,
      "outputs": []
    },
    {
      "cell_type": "markdown",
      "source": [
        "### Importing the Dataset\n"
      ],
      "metadata": {
        "id": "uDytNw-1s08o"
      }
    },
    {
      "cell_type": "code",
      "source": [
        "from pyodide.http import pyfetch\n",
        "\n",
        "async def download(url, filename):\n",
        "    response = await pyfetch(url)\n",
        "    if response.status == 200:\n",
        "        with open(filename, \"wb\") as f:\n",
        "            f.write(await response.bytes())"
      ],
      "metadata": {
        "trusted": true,
        "id": "md8Z2vYrs08o"
      },
      "execution_count": null,
      "outputs": []
    },
    {
      "cell_type": "code",
      "source": [
        "path='https://cf-courses-data.s3.us.cloud-object-storage.appdomain.cloud/IBMDeveloperSkillsNetwork-ML0101EN-SkillUp/labs/ML-FinalAssignment/Weather_Data.csv'"
      ],
      "metadata": {
        "trusted": true,
        "id": "Wvu2gV_8s08o"
      },
      "execution_count": null,
      "outputs": []
    },
    {
      "cell_type": "code",
      "source": [
        "await download(path, \"Weather_Data.csv\")\n",
        "filename =\"Weather_Data.csv\""
      ],
      "metadata": {
        "trusted": true,
        "id": "o3QIS2SQs08p"
      },
      "execution_count": null,
      "outputs": []
    },
    {
      "cell_type": "code",
      "source": [
        "df = pd.read_csv(\"Weather_Data.csv\")\n",
        "df.head()"
      ],
      "metadata": {
        "trusted": true,
        "id": "AoT9D1fMs08p",
        "outputId": "ff4c4062-87a6-4f41-e57d-b44a29dacb76"
      },
      "execution_count": null,
      "outputs": [
        {
          "execution_count": 8,
          "output_type": "execute_result",
          "data": {
            "text/plain": "       Date  MinTemp  MaxTemp  Rainfall  Evaporation  Sunshine WindGustDir  \\\n0  2/1/2008     19.5     22.4      15.6          6.2       0.0           W   \n1  2/2/2008     19.5     25.6       6.0          3.4       2.7           W   \n2  2/3/2008     21.6     24.5       6.6          2.4       0.1           W   \n3  2/4/2008     20.2     22.8      18.8          2.2       0.0           W   \n4  2/5/2008     19.7     25.7      77.4          4.8       0.0           W   \n\n   WindGustSpeed WindDir9am WindDir3pm  ...  Humidity9am  Humidity3pm  \\\n0             41          S        SSW  ...           92           84   \n1             41          W          E  ...           83           73   \n2             41        ESE        ESE  ...           88           86   \n3             41        NNE          E  ...           83           90   \n4             41        NNE          W  ...           88           74   \n\n   Pressure9am  Pressure3pm  Cloud9am  Cloud3pm  Temp9am  Temp3pm  RainToday  \\\n0       1017.6       1017.4         8         8     20.7     20.9        Yes   \n1       1017.9       1016.4         7         7     22.4     24.8        Yes   \n2       1016.7       1015.6         7         8     23.5     23.0        Yes   \n3       1014.2       1011.8         8         8     21.4     20.9        Yes   \n4       1008.3       1004.8         8         8     22.5     25.5        Yes   \n\n   RainTomorrow  \n0           Yes  \n1           Yes  \n2           Yes  \n3           Yes  \n4           Yes  \n\n[5 rows x 22 columns]",
            "text/html": "<div>\n<style scoped>\n    .dataframe tbody tr th:only-of-type {\n        vertical-align: middle;\n    }\n\n    .dataframe tbody tr th {\n        vertical-align: top;\n    }\n\n    .dataframe thead th {\n        text-align: right;\n    }\n</style>\n<table border=\"1\" class=\"dataframe\">\n  <thead>\n    <tr style=\"text-align: right;\">\n      <th></th>\n      <th>Date</th>\n      <th>MinTemp</th>\n      <th>MaxTemp</th>\n      <th>Rainfall</th>\n      <th>Evaporation</th>\n      <th>Sunshine</th>\n      <th>WindGustDir</th>\n      <th>WindGustSpeed</th>\n      <th>WindDir9am</th>\n      <th>WindDir3pm</th>\n      <th>...</th>\n      <th>Humidity9am</th>\n      <th>Humidity3pm</th>\n      <th>Pressure9am</th>\n      <th>Pressure3pm</th>\n      <th>Cloud9am</th>\n      <th>Cloud3pm</th>\n      <th>Temp9am</th>\n      <th>Temp3pm</th>\n      <th>RainToday</th>\n      <th>RainTomorrow</th>\n    </tr>\n  </thead>\n  <tbody>\n    <tr>\n      <th>0</th>\n      <td>2/1/2008</td>\n      <td>19.5</td>\n      <td>22.4</td>\n      <td>15.6</td>\n      <td>6.2</td>\n      <td>0.0</td>\n      <td>W</td>\n      <td>41</td>\n      <td>S</td>\n      <td>SSW</td>\n      <td>...</td>\n      <td>92</td>\n      <td>84</td>\n      <td>1017.6</td>\n      <td>1017.4</td>\n      <td>8</td>\n      <td>8</td>\n      <td>20.7</td>\n      <td>20.9</td>\n      <td>Yes</td>\n      <td>Yes</td>\n    </tr>\n    <tr>\n      <th>1</th>\n      <td>2/2/2008</td>\n      <td>19.5</td>\n      <td>25.6</td>\n      <td>6.0</td>\n      <td>3.4</td>\n      <td>2.7</td>\n      <td>W</td>\n      <td>41</td>\n      <td>W</td>\n      <td>E</td>\n      <td>...</td>\n      <td>83</td>\n      <td>73</td>\n      <td>1017.9</td>\n      <td>1016.4</td>\n      <td>7</td>\n      <td>7</td>\n      <td>22.4</td>\n      <td>24.8</td>\n      <td>Yes</td>\n      <td>Yes</td>\n    </tr>\n    <tr>\n      <th>2</th>\n      <td>2/3/2008</td>\n      <td>21.6</td>\n      <td>24.5</td>\n      <td>6.6</td>\n      <td>2.4</td>\n      <td>0.1</td>\n      <td>W</td>\n      <td>41</td>\n      <td>ESE</td>\n      <td>ESE</td>\n      <td>...</td>\n      <td>88</td>\n      <td>86</td>\n      <td>1016.7</td>\n      <td>1015.6</td>\n      <td>7</td>\n      <td>8</td>\n      <td>23.5</td>\n      <td>23.0</td>\n      <td>Yes</td>\n      <td>Yes</td>\n    </tr>\n    <tr>\n      <th>3</th>\n      <td>2/4/2008</td>\n      <td>20.2</td>\n      <td>22.8</td>\n      <td>18.8</td>\n      <td>2.2</td>\n      <td>0.0</td>\n      <td>W</td>\n      <td>41</td>\n      <td>NNE</td>\n      <td>E</td>\n      <td>...</td>\n      <td>83</td>\n      <td>90</td>\n      <td>1014.2</td>\n      <td>1011.8</td>\n      <td>8</td>\n      <td>8</td>\n      <td>21.4</td>\n      <td>20.9</td>\n      <td>Yes</td>\n      <td>Yes</td>\n    </tr>\n    <tr>\n      <th>4</th>\n      <td>2/5/2008</td>\n      <td>19.7</td>\n      <td>25.7</td>\n      <td>77.4</td>\n      <td>4.8</td>\n      <td>0.0</td>\n      <td>W</td>\n      <td>41</td>\n      <td>NNE</td>\n      <td>W</td>\n      <td>...</td>\n      <td>88</td>\n      <td>74</td>\n      <td>1008.3</td>\n      <td>1004.8</td>\n      <td>8</td>\n      <td>8</td>\n      <td>22.5</td>\n      <td>25.5</td>\n      <td>Yes</td>\n      <td>Yes</td>\n    </tr>\n  </tbody>\n</table>\n<p>5 rows × 22 columns</p>\n</div>"
          },
          "metadata": {}
        }
      ]
    },
    {
      "cell_type": "markdown",
      "source": [
        "### Data Preprocessing\n"
      ],
      "metadata": {
        "id": "axhSzdY_s08p"
      }
    },
    {
      "cell_type": "markdown",
      "source": [
        "#### One Hot Encoding\n"
      ],
      "metadata": {
        "id": "1GtVfWTPs08p"
      }
    },
    {
      "cell_type": "markdown",
      "source": [
        "First, we need to perform one hot encoding to convert categorical variables to binary variables.\n"
      ],
      "metadata": {
        "id": "1Gw-5dtSs08p"
      }
    },
    {
      "cell_type": "code",
      "source": [
        "df_sydney_processed = pd.get_dummies(data=df, columns=['RainToday', 'WindGustDir', 'WindDir9am', 'WindDir3pm'])"
      ],
      "metadata": {
        "trusted": true,
        "id": "byESDLTis08p"
      },
      "execution_count": null,
      "outputs": []
    },
    {
      "cell_type": "markdown",
      "source": [
        "Next, we replace the values of the 'RainTomorrow' column changing them from a categorical column to a binary column. We do not use the `get_dummies` method because we would end up with two columns for 'RainTomorrow' and we do not want, since 'RainTomorrow' is our target.\n"
      ],
      "metadata": {
        "id": "hwTQ-EfWs08q"
      }
    },
    {
      "cell_type": "code",
      "source": [
        "df_sydney_processed.replace(['No', 'Yes'], [0,1], inplace=True)"
      ],
      "metadata": {
        "trusted": true,
        "id": "zAgLudrQs08q"
      },
      "execution_count": null,
      "outputs": []
    },
    {
      "cell_type": "markdown",
      "source": [
        "### Training Data and Test Data\n"
      ],
      "metadata": {
        "id": "Ct3iCUW4s08q"
      }
    },
    {
      "cell_type": "markdown",
      "source": [
        "Now, we set our 'features' or x values and our Y or target variable.\n"
      ],
      "metadata": {
        "id": "pEvOP6a_s08q"
      }
    },
    {
      "cell_type": "code",
      "source": [
        "df_sydney_processed.drop('Date',axis=1,inplace=True)"
      ],
      "metadata": {
        "trusted": true,
        "id": "Q1AwXy2-s08q"
      },
      "execution_count": null,
      "outputs": []
    },
    {
      "cell_type": "code",
      "source": [
        "df_sydney_processed = df_sydney_processed.astype(float)"
      ],
      "metadata": {
        "trusted": true,
        "id": "BsXag0K5s08q"
      },
      "execution_count": null,
      "outputs": []
    },
    {
      "cell_type": "code",
      "source": [
        "features = df_sydney_processed.drop(columns='RainTomorrow', axis=1)\n",
        "Y = df_sydney_processed['RainTomorrow']"
      ],
      "metadata": {
        "trusted": true,
        "id": "lmp10qUgs08q"
      },
      "execution_count": null,
      "outputs": []
    },
    {
      "cell_type": "markdown",
      "source": [
        "### Linear Regression\n"
      ],
      "metadata": {
        "id": "oOVeoxYbs08q"
      }
    },
    {
      "cell_type": "markdown",
      "source": [
        "#### Q1) Use the `train_test_split` function to split the `features` and `Y` dataframes with a `test_size` of `0.2` and the `random_state` set to `10`.\n"
      ],
      "metadata": {
        "id": "5gwzfNdRs08q"
      }
    },
    {
      "cell_type": "code",
      "source": [
        "#Enter Your Code, Execute and take the Screenshot\n",
        "msk = np.random.rand(len(df)) < 0.8\n",
        "train = df_sydney_processed[msk]\n",
        "test = df_sydney_processed[~msk]\n"
      ],
      "metadata": {
        "trusted": true,
        "id": "GceFZzNks08q"
      },
      "execution_count": null,
      "outputs": []
    },
    {
      "cell_type": "code",
      "source": [
        "from sklearn import linear_model\n",
        "regr = linear_model.LinearRegression()\n",
        "train_x = np.asanyarray(train[['RainTomorrow']])\n",
        "train_y = np.asanyarray(train[['RainTomorrow']])\n",
        "regr.fit(train_x, train_y)"
      ],
      "metadata": {
        "trusted": true,
        "id": "ZlMGBSges08r",
        "outputId": "de025f32-dd60-4262-9b33-adf91eda7e7f"
      },
      "execution_count": null,
      "outputs": [
        {
          "execution_count": 21,
          "output_type": "execute_result",
          "data": {
            "text/plain": "LinearRegression()",
            "text/html": "<style>#sk-container-id-2 {color: black;background-color: white;}#sk-container-id-2 pre{padding: 0;}#sk-container-id-2 div.sk-toggleable {background-color: white;}#sk-container-id-2 label.sk-toggleable__label {cursor: pointer;display: block;width: 100%;margin-bottom: 0;padding: 0.3em;box-sizing: border-box;text-align: center;}#sk-container-id-2 label.sk-toggleable__label-arrow:before {content: \"▸\";float: left;margin-right: 0.25em;color: #696969;}#sk-container-id-2 label.sk-toggleable__label-arrow:hover:before {color: black;}#sk-container-id-2 div.sk-estimator:hover label.sk-toggleable__label-arrow:before {color: black;}#sk-container-id-2 div.sk-toggleable__content {max-height: 0;max-width: 0;overflow: hidden;text-align: left;background-color: #f0f8ff;}#sk-container-id-2 div.sk-toggleable__content pre {margin: 0.2em;color: black;border-radius: 0.25em;background-color: #f0f8ff;}#sk-container-id-2 input.sk-toggleable__control:checked~div.sk-toggleable__content {max-height: 200px;max-width: 100%;overflow: auto;}#sk-container-id-2 input.sk-toggleable__control:checked~label.sk-toggleable__label-arrow:before {content: \"▾\";}#sk-container-id-2 div.sk-estimator input.sk-toggleable__control:checked~label.sk-toggleable__label {background-color: #d4ebff;}#sk-container-id-2 div.sk-label input.sk-toggleable__control:checked~label.sk-toggleable__label {background-color: #d4ebff;}#sk-container-id-2 input.sk-hidden--visually {border: 0;clip: rect(1px 1px 1px 1px);clip: rect(1px, 1px, 1px, 1px);height: 1px;margin: -1px;overflow: hidden;padding: 0;position: absolute;width: 1px;}#sk-container-id-2 div.sk-estimator {font-family: monospace;background-color: #f0f8ff;border: 1px dotted black;border-radius: 0.25em;box-sizing: border-box;margin-bottom: 0.5em;}#sk-container-id-2 div.sk-estimator:hover {background-color: #d4ebff;}#sk-container-id-2 div.sk-parallel-item::after {content: \"\";width: 100%;border-bottom: 1px solid gray;flex-grow: 1;}#sk-container-id-2 div.sk-label:hover label.sk-toggleable__label {background-color: #d4ebff;}#sk-container-id-2 div.sk-serial::before {content: \"\";position: absolute;border-left: 1px solid gray;box-sizing: border-box;top: 0;bottom: 0;left: 50%;z-index: 0;}#sk-container-id-2 div.sk-serial {display: flex;flex-direction: column;align-items: center;background-color: white;padding-right: 0.2em;padding-left: 0.2em;position: relative;}#sk-container-id-2 div.sk-item {position: relative;z-index: 1;}#sk-container-id-2 div.sk-parallel {display: flex;align-items: stretch;justify-content: center;background-color: white;position: relative;}#sk-container-id-2 div.sk-item::before, #sk-container-id-2 div.sk-parallel-item::before {content: \"\";position: absolute;border-left: 1px solid gray;box-sizing: border-box;top: 0;bottom: 0;left: 50%;z-index: -1;}#sk-container-id-2 div.sk-parallel-item {display: flex;flex-direction: column;z-index: 1;position: relative;background-color: white;}#sk-container-id-2 div.sk-parallel-item:first-child::after {align-self: flex-end;width: 50%;}#sk-container-id-2 div.sk-parallel-item:last-child::after {align-self: flex-start;width: 50%;}#sk-container-id-2 div.sk-parallel-item:only-child::after {width: 0;}#sk-container-id-2 div.sk-dashed-wrapped {border: 1px dashed gray;margin: 0 0.4em 0.5em 0.4em;box-sizing: border-box;padding-bottom: 0.4em;background-color: white;}#sk-container-id-2 div.sk-label label {font-family: monospace;font-weight: bold;display: inline-block;line-height: 1.2em;}#sk-container-id-2 div.sk-label-container {text-align: center;}#sk-container-id-2 div.sk-container {/* jupyter's `normalize.less` sets `[hidden] { display: none; }` but bootstrap.min.css set `[hidden] { display: none !important; }` so we also need the `!important` here to be able to override the default hidden behavior on the sphinx rendered scikit-learn.org. See: https://github.com/scikit-learn/scikit-learn/issues/21755 */display: inline-block !important;position: relative;}#sk-container-id-2 div.sk-text-repr-fallback {display: none;}</style><div id=\"sk-container-id-2\" class=\"sk-top-container\"><div class=\"sk-text-repr-fallback\"><pre>LinearRegression()</pre><b>In a Jupyter environment, please rerun this cell to show the HTML representation or trust the notebook. <br />On GitHub, the HTML representation is unable to render, please try loading this page with nbviewer.org.</b></div><div class=\"sk-container\" hidden><div class=\"sk-item\"><div class=\"sk-estimator sk-toggleable\"><input class=\"sk-toggleable__control sk-hidden--visually\" id=\"sk-estimator-id-2\" type=\"checkbox\" checked><label for=\"sk-estimator-id-2\" class=\"sk-toggleable__label sk-toggleable__label-arrow\">LinearRegression</label><div class=\"sk-toggleable__content\"><pre>LinearRegression()</pre></div></div></div></div></div>"
          },
          "metadata": {}
        }
      ]
    },
    {
      "cell_type": "markdown",
      "source": [
        "#### Q2) Create and train a Linear Regression model called LinearReg using the training data (`x_train`, `y_train`).\n"
      ],
      "metadata": {
        "id": "j0i3vxuIs08r"
      }
    },
    {
      "cell_type": "code",
      "source": [
        "#Enter Your Code, Execute and take the Screenshot"
      ],
      "metadata": {
        "trusted": true,
        "id": "H-q0U4Rgs08r"
      },
      "execution_count": null,
      "outputs": []
    },
    {
      "cell_type": "code",
      "source": [
        "regr = linear_model.LinearRegression()\n",
        "\n",
        "regr.fit(train_x, train_y)"
      ],
      "metadata": {
        "trusted": true,
        "id": "AH-9b8eIs08r",
        "outputId": "743b912e-f96e-4486-edeb-101775537a71"
      },
      "execution_count": null,
      "outputs": [
        {
          "execution_count": 22,
          "output_type": "execute_result",
          "data": {
            "text/plain": "LinearRegression()",
            "text/html": "<style>#sk-container-id-3 {color: black;background-color: white;}#sk-container-id-3 pre{padding: 0;}#sk-container-id-3 div.sk-toggleable {background-color: white;}#sk-container-id-3 label.sk-toggleable__label {cursor: pointer;display: block;width: 100%;margin-bottom: 0;padding: 0.3em;box-sizing: border-box;text-align: center;}#sk-container-id-3 label.sk-toggleable__label-arrow:before {content: \"▸\";float: left;margin-right: 0.25em;color: #696969;}#sk-container-id-3 label.sk-toggleable__label-arrow:hover:before {color: black;}#sk-container-id-3 div.sk-estimator:hover label.sk-toggleable__label-arrow:before {color: black;}#sk-container-id-3 div.sk-toggleable__content {max-height: 0;max-width: 0;overflow: hidden;text-align: left;background-color: #f0f8ff;}#sk-container-id-3 div.sk-toggleable__content pre {margin: 0.2em;color: black;border-radius: 0.25em;background-color: #f0f8ff;}#sk-container-id-3 input.sk-toggleable__control:checked~div.sk-toggleable__content {max-height: 200px;max-width: 100%;overflow: auto;}#sk-container-id-3 input.sk-toggleable__control:checked~label.sk-toggleable__label-arrow:before {content: \"▾\";}#sk-container-id-3 div.sk-estimator input.sk-toggleable__control:checked~label.sk-toggleable__label {background-color: #d4ebff;}#sk-container-id-3 div.sk-label input.sk-toggleable__control:checked~label.sk-toggleable__label {background-color: #d4ebff;}#sk-container-id-3 input.sk-hidden--visually {border: 0;clip: rect(1px 1px 1px 1px);clip: rect(1px, 1px, 1px, 1px);height: 1px;margin: -1px;overflow: hidden;padding: 0;position: absolute;width: 1px;}#sk-container-id-3 div.sk-estimator {font-family: monospace;background-color: #f0f8ff;border: 1px dotted black;border-radius: 0.25em;box-sizing: border-box;margin-bottom: 0.5em;}#sk-container-id-3 div.sk-estimator:hover {background-color: #d4ebff;}#sk-container-id-3 div.sk-parallel-item::after {content: \"\";width: 100%;border-bottom: 1px solid gray;flex-grow: 1;}#sk-container-id-3 div.sk-label:hover label.sk-toggleable__label {background-color: #d4ebff;}#sk-container-id-3 div.sk-serial::before {content: \"\";position: absolute;border-left: 1px solid gray;box-sizing: border-box;top: 0;bottom: 0;left: 50%;z-index: 0;}#sk-container-id-3 div.sk-serial {display: flex;flex-direction: column;align-items: center;background-color: white;padding-right: 0.2em;padding-left: 0.2em;position: relative;}#sk-container-id-3 div.sk-item {position: relative;z-index: 1;}#sk-container-id-3 div.sk-parallel {display: flex;align-items: stretch;justify-content: center;background-color: white;position: relative;}#sk-container-id-3 div.sk-item::before, #sk-container-id-3 div.sk-parallel-item::before {content: \"\";position: absolute;border-left: 1px solid gray;box-sizing: border-box;top: 0;bottom: 0;left: 50%;z-index: -1;}#sk-container-id-3 div.sk-parallel-item {display: flex;flex-direction: column;z-index: 1;position: relative;background-color: white;}#sk-container-id-3 div.sk-parallel-item:first-child::after {align-self: flex-end;width: 50%;}#sk-container-id-3 div.sk-parallel-item:last-child::after {align-self: flex-start;width: 50%;}#sk-container-id-3 div.sk-parallel-item:only-child::after {width: 0;}#sk-container-id-3 div.sk-dashed-wrapped {border: 1px dashed gray;margin: 0 0.4em 0.5em 0.4em;box-sizing: border-box;padding-bottom: 0.4em;background-color: white;}#sk-container-id-3 div.sk-label label {font-family: monospace;font-weight: bold;display: inline-block;line-height: 1.2em;}#sk-container-id-3 div.sk-label-container {text-align: center;}#sk-container-id-3 div.sk-container {/* jupyter's `normalize.less` sets `[hidden] { display: none; }` but bootstrap.min.css set `[hidden] { display: none !important; }` so we also need the `!important` here to be able to override the default hidden behavior on the sphinx rendered scikit-learn.org. See: https://github.com/scikit-learn/scikit-learn/issues/21755 */display: inline-block !important;position: relative;}#sk-container-id-3 div.sk-text-repr-fallback {display: none;}</style><div id=\"sk-container-id-3\" class=\"sk-top-container\"><div class=\"sk-text-repr-fallback\"><pre>LinearRegression()</pre><b>In a Jupyter environment, please rerun this cell to show the HTML representation or trust the notebook. <br />On GitHub, the HTML representation is unable to render, please try loading this page with nbviewer.org.</b></div><div class=\"sk-container\" hidden><div class=\"sk-item\"><div class=\"sk-estimator sk-toggleable\"><input class=\"sk-toggleable__control sk-hidden--visually\" id=\"sk-estimator-id-3\" type=\"checkbox\" checked><label for=\"sk-estimator-id-3\" class=\"sk-toggleable__label sk-toggleable__label-arrow\">LinearRegression</label><div class=\"sk-toggleable__content\"><pre>LinearRegression()</pre></div></div></div></div></div>"
          },
          "metadata": {}
        }
      ]
    },
    {
      "cell_type": "markdown",
      "source": [
        "#### Q3) Now use the `predict` method on the testing data (`x_test`) and save it to the array `predictions`.\n"
      ],
      "metadata": {
        "id": "mNCvrLR1s08r"
      }
    },
    {
      "cell_type": "code",
      "source": [
        "#Enter Your Code, Execute and take the Screenshot"
      ],
      "metadata": {
        "trusted": true,
        "id": "32dYUChPs08r"
      },
      "execution_count": null,
      "outputs": []
    },
    {
      "cell_type": "code",
      "source": [
        "predictions = test_x = np.asanyarray(test[['RainTomorrow']])\n",
        "test_y = np.asanyarray(test[['RainTomorrow']])\n",
        "test_y_ = regr.predict(test_x)"
      ],
      "metadata": {
        "trusted": true,
        "id": "koj35uDTs08r"
      },
      "execution_count": null,
      "outputs": []
    },
    {
      "cell_type": "markdown",
      "source": [
        "#### Q4) Using the `predictions` and the `y_test` dataframe calculate the value for each metric using the appropriate function.\n"
      ],
      "metadata": {
        "id": "cPXepE_xs08r"
      }
    },
    {
      "cell_type": "code",
      "source": [
        "#Enter Your Code, Execute and take the Screenshot\n",
        "from sklearn.metrics import r2_score\n",
        "predictions = test_x = np.asanyarray(test[['RainTomorrow']])\n",
        "test_y = np.asanyarray(test[['RainTomorrow']])\n",
        "test_y_ = regr.predict(test_x)\n",
        "print(\"Mean absolute error (MAE): %.2f\" % np.mean(np.absolute(test_y_ - test_y)))\n",
        "print(\"Residual sum of squares (MSE): %.2f\" % np.mean((test_y_ - test_y) ** 2))\n",
        "print(\"R2-score: %.2f\" % r2_score(test_y , test_y_) )"
      ],
      "metadata": {
        "trusted": true,
        "id": "1aZl2ZyMs08s",
        "outputId": "d91dda95-e83d-4db8-ebe2-a13fc935681e"
      },
      "execution_count": null,
      "outputs": [
        {
          "name": "stdout",
          "text": "Mean absolute error (MAE): 0.00\nResidual sum of squares (MSE): 0.00\nR2-score: 1.00\n",
          "output_type": "stream"
        }
      ]
    },
    {
      "cell_type": "code",
      "source": [
        "LinearRegression_MAE = 0.00\n",
        "LinearRegression_MSE = 0.00\n",
        "LinearRegression_R2 = 1.00"
      ],
      "metadata": {
        "trusted": true,
        "id": "ajgcnqvIs08s"
      },
      "execution_count": null,
      "outputs": []
    },
    {
      "cell_type": "markdown",
      "source": [
        "#### Q5) Show the MAE, MSE, and R2 in a tabular format using data frame for the linear model.\n"
      ],
      "metadata": {
        "id": "UT1Ei-_js08s"
      }
    },
    {
      "cell_type": "code",
      "source": [
        "#Enter Your Code, Execute and take the Screenshot"
      ],
      "metadata": {
        "trusted": true,
        "id": "C_6Ufjjos08s"
      },
      "execution_count": null,
      "outputs": []
    },
    {
      "cell_type": "code",
      "source": [
        "Report = {\"Metrics\":[\"MAE\",\"MSE\",\"R2\"],\"Result\":\n",
        "[LinearRegression_MAE,LinearRegression_MSE,LinearRegression_R2]}\n",
        "pd.DataFrame(Report)\n"
      ],
      "metadata": {
        "trusted": true,
        "id": "Ff3jZUKcs08t",
        "outputId": "52aa2232-6032-41e3-d1a7-0811885b90c8"
      },
      "execution_count": null,
      "outputs": [
        {
          "execution_count": 31,
          "output_type": "execute_result",
          "data": {
            "text/plain": "  Metrics  Result\n0     MAE     0.0\n1     MSE     0.0\n2      R2     1.0",
            "text/html": "<div>\n<style scoped>\n    .dataframe tbody tr th:only-of-type {\n        vertical-align: middle;\n    }\n\n    .dataframe tbody tr th {\n        vertical-align: top;\n    }\n\n    .dataframe thead th {\n        text-align: right;\n    }\n</style>\n<table border=\"1\" class=\"dataframe\">\n  <thead>\n    <tr style=\"text-align: right;\">\n      <th></th>\n      <th>Metrics</th>\n      <th>Result</th>\n    </tr>\n  </thead>\n  <tbody>\n    <tr>\n      <th>0</th>\n      <td>MAE</td>\n      <td>0.0</td>\n    </tr>\n    <tr>\n      <th>1</th>\n      <td>MSE</td>\n      <td>0.0</td>\n    </tr>\n    <tr>\n      <th>2</th>\n      <td>R2</td>\n      <td>1.0</td>\n    </tr>\n  </tbody>\n</table>\n</div>"
          },
          "metadata": {}
        }
      ]
    },
    {
      "cell_type": "markdown",
      "source": [
        "### KNN\n"
      ],
      "metadata": {
        "id": "yGjSBvRGs08t"
      }
    },
    {
      "cell_type": "markdown",
      "source": [
        "#### Q6) Create and train a KNN model called KNN using the training data (`x_train`, `y_train`) with the `n_neighbors` parameter set to `4`.\n"
      ],
      "metadata": {
        "id": "JAJRdevks08t"
      }
    },
    {
      "cell_type": "code",
      "source": [
        "#Enter Your Code Below, Execute, and Save the Screenshot of the Final Output\n",
        "from sklearn.neighbors import KNeighborsClassifier\n",
        "train_x_norm = preprocessing.StandardScaler().fit(train_x).transform(train_x.astype(float))\n",
        "train_x_norm[0:5]"
      ],
      "metadata": {
        "trusted": true,
        "id": "TZpkRvVys08t",
        "outputId": "71006360-3409-434a-ca1e-e2ad51296a42"
      },
      "execution_count": null,
      "outputs": [
        {
          "execution_count": 41,
          "output_type": "execute_result",
          "data": {
            "text/plain": "array([[1.6722849],\n       [1.6722849],\n       [1.6722849],\n       [1.6722849],\n       [1.6722849]])"
          },
          "metadata": {}
        }
      ]
    },
    {
      "cell_type": "code",
      "source": [
        "k = 4\n",
        "#Train Model and Predict\n",
        "neigh = KNeighborsClassifier(n_neighbors = k).fit(train_x_norm,train_y)\n",
        "neigh\n",
        "test_x_norm = preprocessing.StandardScaler().fit(test_x).transform(test_x.astype(float))\n",
        "test_x_norm[0:5]"
      ],
      "metadata": {
        "trusted": true,
        "id": "FbWWPQjds08t",
        "outputId": "e5847d3d-57af-4f35-f7f8-a26faf17ddd9"
      },
      "execution_count": null,
      "outputs": [
        {
          "execution_count": 51,
          "output_type": "execute_result",
          "data": {
            "text/plain": "array([[ 1.76140969],\n       [ 1.76140969],\n       [ 1.76140969],\n       [-0.56772709],\n       [-0.56772709]])"
          },
          "metadata": {}
        }
      ]
    },
    {
      "cell_type": "markdown",
      "source": [
        "#### Q7) Now use the `predict` method on the testing data (`x_test`) and save it to the array `predictions`.\n"
      ],
      "metadata": {
        "id": "lEidm5sZs08t"
      }
    },
    {
      "cell_type": "code",
      "source": [
        "#Enter Your Code Below, Execute, and Save the Screenshot of the Final Output\n"
      ],
      "metadata": {
        "trusted": true,
        "id": "2qFZeqZUs08t"
      },
      "execution_count": null,
      "outputs": []
    },
    {
      "cell_type": "code",
      "source": [
        "yhat = neigh.predict(test_x_norm)\n",
        "yhat[0:5]"
      ],
      "metadata": {
        "trusted": true,
        "id": "n_LuMld4s08u",
        "outputId": "2d0abbeb-fe2c-4162-b5d1-c43c8593a679"
      },
      "execution_count": null,
      "outputs": [
        {
          "execution_count": 55,
          "output_type": "execute_result",
          "data": {
            "text/plain": "array([1., 1., 1., 0., 0.])"
          },
          "metadata": {}
        }
      ]
    },
    {
      "cell_type": "markdown",
      "source": [
        "#### Q8) Using the `predictions` and the `y_test` dataframe calculate the value for each metric using the appropriate function.\n"
      ],
      "metadata": {
        "id": "t3BKVhR9s08u"
      }
    },
    {
      "cell_type": "code",
      "source": [
        "#Enter Your Code Below, Execute, and Save the Screenshot of the Final Output\n",
        "from sklearn import metrics\n",
        "print(\"Train set Accuracy: \", metrics.accuracy_score(train_y, neigh.predict(train_x_norm)))\n",
        "print(\"Test set Accuracy: \", metrics.accuracy_score(test_y, yhat))"
      ],
      "metadata": {
        "trusted": true,
        "id": "nOQsXqMds08u",
        "outputId": "a76d5a4d-69fa-4d41-9f08-e5a4dd5bc749"
      },
      "execution_count": null,
      "outputs": [
        {
          "name": "stdout",
          "text": "Train set Accuracy:  1.0\nTest set Accuracy:  1.0\n",
          "output_type": "stream"
        }
      ]
    },
    {
      "cell_type": "code",
      "source": [],
      "metadata": {
        "id": "65_kIfh5s08u"
      },
      "execution_count": null,
      "outputs": []
    },
    {
      "cell_type": "markdown",
      "source": [
        "### Decision Tree\n"
      ],
      "metadata": {
        "id": "3aCiLfEjs08u"
      }
    },
    {
      "cell_type": "markdown",
      "source": [
        "#### Q9) Create and train a Decision Tree model called Tree using the training data (`x_train`, `y_train`).\n"
      ],
      "metadata": {
        "id": "ixHJik6gs08u"
      }
    },
    {
      "cell_type": "code",
      "source": [
        "#Enter Your Code, Execute and take the Screenshot\n",
        "x = df_sydney_processed.values\n",
        "x[0:5]\n",
        "y = df_sydney_processed\n",
        "y[:5]\n",
        "\n"
      ],
      "metadata": {
        "trusted": true,
        "id": "H1_T1hIEs08u",
        "outputId": "43bf1c65-7ac9-46b2-e932-de3a9f92308d"
      },
      "execution_count": null,
      "outputs": [
        {
          "execution_count": 79,
          "output_type": "execute_result",
          "data": {
            "text/plain": "   MinTemp  MaxTemp  Rainfall  Evaporation  Sunshine  WindGustSpeed  \\\n0     19.5     22.4      15.6          6.2       0.0           41.0   \n1     19.5     25.6       6.0          3.4       2.7           41.0   \n2     21.6     24.5       6.6          2.4       0.1           41.0   \n3     20.2     22.8      18.8          2.2       0.0           41.0   \n4     19.7     25.7      77.4          4.8       0.0           41.0   \n\n   WindSpeed9am  WindSpeed3pm  Humidity9am  Humidity3pm  ...  WindDir3pm_NNW  \\\n0          17.0          20.0         92.0         84.0  ...             0.0   \n1           9.0          13.0         83.0         73.0  ...             0.0   \n2          17.0           2.0         88.0         86.0  ...             0.0   \n3          22.0          20.0         83.0         90.0  ...             0.0   \n4          11.0           6.0         88.0         74.0  ...             0.0   \n\n   WindDir3pm_NW  WindDir3pm_S  WindDir3pm_SE  WindDir3pm_SSE  WindDir3pm_SSW  \\\n0            0.0           0.0            0.0             0.0             1.0   \n1            0.0           0.0            0.0             0.0             0.0   \n2            0.0           0.0            0.0             0.0             0.0   \n3            0.0           0.0            0.0             0.0             0.0   \n4            0.0           0.0            0.0             0.0             0.0   \n\n   WindDir3pm_SW  WindDir3pm_W  WindDir3pm_WNW  WindDir3pm_WSW  \n0            0.0           0.0             0.0             0.0  \n1            0.0           0.0             0.0             0.0  \n2            0.0           0.0             0.0             0.0  \n3            0.0           0.0             0.0             0.0  \n4            0.0           1.0             0.0             0.0  \n\n[5 rows x 67 columns]",
            "text/html": "<div>\n<style scoped>\n    .dataframe tbody tr th:only-of-type {\n        vertical-align: middle;\n    }\n\n    .dataframe tbody tr th {\n        vertical-align: top;\n    }\n\n    .dataframe thead th {\n        text-align: right;\n    }\n</style>\n<table border=\"1\" class=\"dataframe\">\n  <thead>\n    <tr style=\"text-align: right;\">\n      <th></th>\n      <th>MinTemp</th>\n      <th>MaxTemp</th>\n      <th>Rainfall</th>\n      <th>Evaporation</th>\n      <th>Sunshine</th>\n      <th>WindGustSpeed</th>\n      <th>WindSpeed9am</th>\n      <th>WindSpeed3pm</th>\n      <th>Humidity9am</th>\n      <th>Humidity3pm</th>\n      <th>...</th>\n      <th>WindDir3pm_NNW</th>\n      <th>WindDir3pm_NW</th>\n      <th>WindDir3pm_S</th>\n      <th>WindDir3pm_SE</th>\n      <th>WindDir3pm_SSE</th>\n      <th>WindDir3pm_SSW</th>\n      <th>WindDir3pm_SW</th>\n      <th>WindDir3pm_W</th>\n      <th>WindDir3pm_WNW</th>\n      <th>WindDir3pm_WSW</th>\n    </tr>\n  </thead>\n  <tbody>\n    <tr>\n      <th>0</th>\n      <td>19.5</td>\n      <td>22.4</td>\n      <td>15.6</td>\n      <td>6.2</td>\n      <td>0.0</td>\n      <td>41.0</td>\n      <td>17.0</td>\n      <td>20.0</td>\n      <td>92.0</td>\n      <td>84.0</td>\n      <td>...</td>\n      <td>0.0</td>\n      <td>0.0</td>\n      <td>0.0</td>\n      <td>0.0</td>\n      <td>0.0</td>\n      <td>1.0</td>\n      <td>0.0</td>\n      <td>0.0</td>\n      <td>0.0</td>\n      <td>0.0</td>\n    </tr>\n    <tr>\n      <th>1</th>\n      <td>19.5</td>\n      <td>25.6</td>\n      <td>6.0</td>\n      <td>3.4</td>\n      <td>2.7</td>\n      <td>41.0</td>\n      <td>9.0</td>\n      <td>13.0</td>\n      <td>83.0</td>\n      <td>73.0</td>\n      <td>...</td>\n      <td>0.0</td>\n      <td>0.0</td>\n      <td>0.0</td>\n      <td>0.0</td>\n      <td>0.0</td>\n      <td>0.0</td>\n      <td>0.0</td>\n      <td>0.0</td>\n      <td>0.0</td>\n      <td>0.0</td>\n    </tr>\n    <tr>\n      <th>2</th>\n      <td>21.6</td>\n      <td>24.5</td>\n      <td>6.6</td>\n      <td>2.4</td>\n      <td>0.1</td>\n      <td>41.0</td>\n      <td>17.0</td>\n      <td>2.0</td>\n      <td>88.0</td>\n      <td>86.0</td>\n      <td>...</td>\n      <td>0.0</td>\n      <td>0.0</td>\n      <td>0.0</td>\n      <td>0.0</td>\n      <td>0.0</td>\n      <td>0.0</td>\n      <td>0.0</td>\n      <td>0.0</td>\n      <td>0.0</td>\n      <td>0.0</td>\n    </tr>\n    <tr>\n      <th>3</th>\n      <td>20.2</td>\n      <td>22.8</td>\n      <td>18.8</td>\n      <td>2.2</td>\n      <td>0.0</td>\n      <td>41.0</td>\n      <td>22.0</td>\n      <td>20.0</td>\n      <td>83.0</td>\n      <td>90.0</td>\n      <td>...</td>\n      <td>0.0</td>\n      <td>0.0</td>\n      <td>0.0</td>\n      <td>0.0</td>\n      <td>0.0</td>\n      <td>0.0</td>\n      <td>0.0</td>\n      <td>0.0</td>\n      <td>0.0</td>\n      <td>0.0</td>\n    </tr>\n    <tr>\n      <th>4</th>\n      <td>19.7</td>\n      <td>25.7</td>\n      <td>77.4</td>\n      <td>4.8</td>\n      <td>0.0</td>\n      <td>41.0</td>\n      <td>11.0</td>\n      <td>6.0</td>\n      <td>88.0</td>\n      <td>74.0</td>\n      <td>...</td>\n      <td>0.0</td>\n      <td>0.0</td>\n      <td>0.0</td>\n      <td>0.0</td>\n      <td>0.0</td>\n      <td>0.0</td>\n      <td>0.0</td>\n      <td>1.0</td>\n      <td>0.0</td>\n      <td>0.0</td>\n    </tr>\n  </tbody>\n</table>\n<p>5 rows × 67 columns</p>\n</div>"
          },
          "metadata": {}
        }
      ]
    },
    {
      "cell_type": "code",
      "source": [
        "drugTree # it shows the default parameters\n",
        "drugTree = DecisionTreeClassifier(criterion=\"entropy\", max_depth = 4)\n",
        "trainset_x, testset_x, trainset_y, testset_y = train_test_split(x, y, test_size=0.3, random_state=3)"
      ],
      "metadata": {
        "trusted": true,
        "id": "oEg1sdH8s08v"
      },
      "execution_count": null,
      "outputs": []
    },
    {
      "cell_type": "markdown",
      "source": [
        "#### Q10) Now use the `predict` method on the testing data (`x_test`) and save it to the array `predictions`.\n"
      ],
      "metadata": {
        "id": "eAluIlrIs08v"
      }
    },
    {
      "cell_type": "code",
      "source": [
        "#Enter Your Code, Execute and take the Screenshot\n"
      ],
      "metadata": {
        "trusted": true,
        "id": "JMDx8mFds08v"
      },
      "execution_count": null,
      "outputs": []
    },
    {
      "cell_type": "code",
      "source": [
        "predictions ="
      ],
      "metadata": {
        "id": "TxcZVhMFs08v"
      },
      "execution_count": null,
      "outputs": []
    },
    {
      "cell_type": "markdown",
      "source": [
        "#### Q11) Using the `predictions` and the `y_test` dataframe calculate the value for each metric using the appropriate function.\n"
      ],
      "metadata": {
        "id": "J7aTiBIus08v"
      }
    },
    {
      "cell_type": "code",
      "source": [
        "#Enter Your Code, Execute and take the Screenshot"
      ],
      "metadata": {
        "id": "HRj2gda0s08v"
      },
      "execution_count": null,
      "outputs": []
    },
    {
      "cell_type": "code",
      "source": [
        "Tree_Accuracy_Score =\n",
        "Tree_JaccardIndex =\n",
        "Tree_F1_Score ="
      ],
      "metadata": {
        "id": "HJ7524Tis08v"
      },
      "execution_count": null,
      "outputs": []
    },
    {
      "cell_type": "markdown",
      "source": [
        "### Logistic Regression\n"
      ],
      "metadata": {
        "id": "ayatWTC7s08w"
      }
    },
    {
      "cell_type": "markdown",
      "source": [
        "#### Q12) Use the `train_test_split` function to split the `features` and `Y` dataframes with a `test_size` of `0.2` and the `random_state` set to `1`.\n"
      ],
      "metadata": {
        "id": "ftcYnEzfs08w"
      }
    },
    {
      "cell_type": "code",
      "source": [
        "#Enter Your Code, Execute and take the Screenshot"
      ],
      "metadata": {
        "id": "EKZc0Msps08w"
      },
      "execution_count": null,
      "outputs": []
    },
    {
      "cell_type": "code",
      "source": [
        "x_train, x_test, y_train, y_test ="
      ],
      "metadata": {
        "id": "00j8ZKwOs08w"
      },
      "execution_count": null,
      "outputs": []
    },
    {
      "cell_type": "markdown",
      "source": [
        "#### Q13) Create and train a LogisticRegression model called LR using the training data (`x_train`, `y_train`) with the `solver` parameter set to `liblinear`.\n"
      ],
      "metadata": {
        "id": "ovFffNmbs08w"
      }
    },
    {
      "cell_type": "code",
      "source": [
        "#Enter Your Code, Execute and take the Screenshot"
      ],
      "metadata": {
        "id": "o1w7Qpiqs08w"
      },
      "execution_count": null,
      "outputs": []
    },
    {
      "cell_type": "code",
      "source": [
        "LR ="
      ],
      "metadata": {
        "id": "WPEv7HC1s08w"
      },
      "execution_count": null,
      "outputs": []
    },
    {
      "cell_type": "markdown",
      "source": [
        "#### Q14) Now, use the `predict` and `predict_proba` methods on the testing data (`x_test`) and save it as 2 arrays `predictions` and `predict_proba`.\n"
      ],
      "metadata": {
        "id": "GnLX_Xqts08w"
      }
    },
    {
      "cell_type": "code",
      "source": [
        "#Enter Your Code, Execute and take the Screenshot"
      ],
      "metadata": {
        "id": "SedJ6olCs08x"
      },
      "execution_count": null,
      "outputs": []
    },
    {
      "cell_type": "code",
      "source": [
        "predictions ="
      ],
      "metadata": {
        "id": "-Xo2Vtcks08x"
      },
      "execution_count": null,
      "outputs": []
    },
    {
      "cell_type": "code",
      "source": [
        "predict_proba ="
      ],
      "metadata": {
        "id": "X-xkL9ups08x"
      },
      "execution_count": null,
      "outputs": []
    },
    {
      "cell_type": "markdown",
      "source": [
        "#### Q15) Using the `predictions`, `predict_proba` and the `y_test` dataframe calculate the value for each metric using the appropriate function.\n"
      ],
      "metadata": {
        "id": "g4Io16Yus08x"
      }
    },
    {
      "cell_type": "code",
      "source": [
        "#Enter Your Code, Execute and take the Screenshot"
      ],
      "metadata": {
        "id": "8SgWh2f_s08x"
      },
      "execution_count": null,
      "outputs": []
    },
    {
      "cell_type": "code",
      "source": [
        "LR_Accuracy_Score =\n",
        "LR_JaccardIndex =\n",
        "LR_F1_Score =\n",
        "LR_Log_Loss ="
      ],
      "metadata": {
        "id": "mKXJL6Dds08x"
      },
      "execution_count": null,
      "outputs": []
    },
    {
      "cell_type": "markdown",
      "source": [
        "### SVM\n"
      ],
      "metadata": {
        "id": "-3giF7Gus08x"
      }
    },
    {
      "cell_type": "markdown",
      "source": [
        "#### Q16) Create and train a SVM model called SVM using the training data (`x_train`, `y_train`).\n"
      ],
      "metadata": {
        "id": "yhjLSXeJs08x"
      }
    },
    {
      "cell_type": "code",
      "source": [
        "#Enter Your Code Below, Execute, and Save the Screenshot of the Final Output"
      ],
      "metadata": {
        "id": "0zN8mNdLs08x"
      },
      "execution_count": null,
      "outputs": []
    },
    {
      "cell_type": "code",
      "source": [
        "SVM ="
      ],
      "metadata": {
        "id": "bZEBsTAus08y"
      },
      "execution_count": null,
      "outputs": []
    },
    {
      "cell_type": "markdown",
      "source": [
        "#### Q17) Now use the `predict` method on the testing data (`x_test`) and save it to the array `predictions`.\n"
      ],
      "metadata": {
        "id": "7TGe1Obns08y"
      }
    },
    {
      "cell_type": "code",
      "source": [
        "#Enter Your Code Below, Execute, and Save the Screenshot of the Final Output"
      ],
      "metadata": {
        "id": "oiO86mFEs08y"
      },
      "execution_count": null,
      "outputs": []
    },
    {
      "cell_type": "code",
      "source": [
        "predictions ="
      ],
      "metadata": {
        "id": "BeFW_yBss08y"
      },
      "execution_count": null,
      "outputs": []
    },
    {
      "cell_type": "markdown",
      "source": [
        "#### Q18) Using the `predictions` and the `y_test` dataframe calculate the value for each metric using the appropriate function.\n"
      ],
      "metadata": {
        "id": "TyoiY4nOs08y"
      }
    },
    {
      "cell_type": "code",
      "source": [
        "SVM_Accuracy_Score =\n",
        "SVM_JaccardIndex =\n",
        "SVM_F1_Score ="
      ],
      "metadata": {
        "id": "3FdH7hZbs08y"
      },
      "execution_count": null,
      "outputs": []
    }
  ]
}